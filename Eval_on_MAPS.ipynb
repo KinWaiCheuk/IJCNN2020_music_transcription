{
 "cells": [
  {
   "cell_type": "code",
   "execution_count": 1,
   "metadata": {},
   "outputs": [],
   "source": [
    "import os,sys,signal\n",
    "import math\n",
    "\n",
    "import pickle\n",
    "import numpy as np                                       # fast vectors and matrices\n",
    "import matplotlib.pyplot as plt                          # plotting\n",
    "\n",
    "import musicnet\n",
    "\n",
    "from time import time\n",
    "from nnAudio import Spectrogram\n",
    "\n",
    "from sklearn.metrics import average_precision_score\n",
    "\n",
    "os.environ['CUDA_DEVICE_ORDER']='PCI_BUS_ID'   # see issue #152\n",
    "os.environ['CUDA_VISIBLE_DEVICES']='0'\n",
    "\n",
    "import torch\n",
    "from torch.nn.functional import conv1d, mse_loss\n",
    "import torch.nn.functional as F\n",
    "import torch.nn as nn\n",
    "\n",
    "if torch.cuda.is_available():\n",
    "    device = \"cuda:0\"\n"
   ]
  },
  {
   "cell_type": "code",
   "execution_count": 2,
   "metadata": {},
   "outputs": [],
   "source": [
    "# Network Parameters\n",
    "epochs = 20\n",
    "train_size = 100000\n",
    "test_size = 50000\n",
    "\n",
    "lr = 1e-6\n",
    "momentum = .95\n",
    "\n",
    "pitch_shift = 0\n",
    "jitter = 0.\n",
    "num_workers = 10\n",
    "sequence = 1\n",
    "\n",
    "# lvl1 convolutions are shared between regions\n",
    "m = 128\n",
    "k = 512              # lvl1 nodes\n",
    "n_fft = 4096              # lvl1 receptive field\n",
    "window = 16384 # total number of audio samples?\n",
    "stride = 512\n",
    "batch_size = 100\n",
    "\n",
    "regions = 1 + (window)//stride\n",
    "\n",
    "def worker_init(args):\n",
    "    signal.signal(signal.SIGINT, signal.SIG_IGN) # ignore signals so parent can handle them\n",
    "    np.random.seed(os.getpid() ^ int(time())) # approximately random seed for workers\n",
    "kwargs = {'num_workers': num_workers, 'pin_memory': False, 'worker_init_fn': worker_init}"
   ]
  },
  {
   "cell_type": "code",
   "execution_count": 3,
   "metadata": {},
   "outputs": [],
   "source": [
    "# function for returning scientific notation in a plot\n",
    "def fmt(x, pos):\n",
    "    a, b = '{:.0e}'.format(x).split('e')\n",
    "    b = int(b)\n",
    "    return fr'${a} \\times 10^{{{b}}}$'"
   ]
  },
  {
   "cell_type": "code",
   "execution_count": 4,
   "metadata": {},
   "outputs": [],
   "source": [
    "result_dict = {'loss_history_train': [],\n",
    "               'avgp_history_train': [],\n",
    "               'loss_history_test': [],\n",
    "               'avgp_history_test': [],\n",
    "               'parameters': {}}\n",
    "\n",
    "result_dict['parameters']['train_size'] = train_size\n",
    "result_dict['parameters']['test_size'] = test_size\n",
    "result_dict['parameters']['lr'] = lr\n",
    "result_dict['parameters']['pitch_shift'] = pitch_shift\n",
    "result_dict['parameters']['jitter'] = jitter"
   ]
  },
  {
   "cell_type": "markdown",
   "metadata": {},
   "source": [
    "# Preparing Dataset"
   ]
  },
  {
   "cell_type": "code",
   "execution_count": 7,
   "metadata": {},
   "outputs": [],
   "source": [
    "# Change this directories to match your own path\n",
    "# Run once with first root_2 uncommented and then run with the second root_2 uncommented (comment out the first one) \n",
    "\n",
    "root_1 = './data'\n",
    "root_2 = '../MAPS/TEST3/'"
   ]
  },
  {
   "cell_type": "code",
   "execution_count": 8,
   "metadata": {},
   "outputs": [
    {
     "name": "stdout",
     "output_type": "stream",
     "text": [
      "Data loaded, time used = 33.43 seconds\n",
      "TRAIN  [2207, 2315, 2392, 1757, 2477, 2320, 2480, 2390, 2677, 2466, 2342, 1756, 2555, 2629, 2582, 2217, 2659, 2471, 2161, 2292, 2530, 2322, 2618, 2239, 2313, 2343, 2593, 2220, 2247, 2532, 2523, 1931, 2373, 1918, 2180, 2077, 2376, 2391, 2302, 2478, 2621, 1742, 2505, 2346, 2140, 1893, 1735, 2186, 1812, 2568, 2307, 2080, 1751, 2572, 1764, 2167, 2300, 2473, 2627, 2531, 2487, 2238, 2397, 2179, 1775, 2288, 2198, 2420, 2476, 2242, 2284, 2138, 2177, 1791, 2404, 2297, 2497, 2336, 2234, 2166, 2410, 2433, 2308, 2522, 2368, 2229, 2201, 2494, 2384, 2218, 2195, 2436, 2083, 1805, 2575, 1859, 2240, 2295, 2423, 1829, 2237, 2462, 2571, 2393, 2168, 1916, 2155, 2371, 1773, 2219, 2225, 2212, 1765, 2590, 2483, 2196, 2595, 2305, 2529, 2472, 1835, 2104, 2486, 2294, 2364, 2209, 2422, 2345, 2481, 2147, 2502, 2112, 2432, 2509, 2560, 2149, 2591, 2614, 2566, 1772, 1776, 2594, 1872, 2405, 1768, 1822, 2611, 2570, 1730, 2296, 2603, 2372, 2622, 2127, 1923, 2358, 1933, 2619, 2304, 1766, 2231, 2232, 2512, 2510, 2335, 2381, 2114, 1790, 2076, 2576, 2463, 2514, 2285, 1876, 2348, 2082, 1807, 2214, 2158, 2282, 2501, 2156, 2550, 2157, 1813, 1792, 2633, 2506, 2283, 2159, 2377, 2334, 2415, 2442, 2424, 2365, 2537, 2451, 2113, 2341, 2588, 1873, 2678, 2243, 2608, 2117, 2116, 2150, 2221, 1818, 2417, 2204, 2366, 2411, 2119, 2507, 2492, 2482, 2607, 2211, 2151, 2538, 2441, 2542, 2504, 2325, 2528, 2406, 1733, 2314, 2586, 2379, 1789, 1727, 2228, 2374, 2521, 1763, 1758, 1817, 2227, 2208, 2178, 1932, 1771, 2431, 1777, 2564, 2383, 1828, 2388, 2202, 2350, 1752, 2620, 2230, 2215, 2490, 2244, 2148, 2443, 2154, 1824, 2557, 2626, 2081, 2318, 1919, 2330, 2200, 2488, 2359, 2527, 2194, 2289, 1728, 2078, 2398, 2160, 2169, 2224, 2491, 1793, 2293, 1788, 2444, 2210, 1811, 2213, 1760, 2310, 1749, 2567, 2079, 1922, 1734, 2131, 2403, 2516, 2357, 2632, 1750, 2319, 2389, 2248, 2203, 2562, 2533, 1739, 2581, 1729, 2596, 1755, 2222, 2573, 2540, 2075, 2118, 2105, 2241]\n",
      "TEST  [1, 2, 3, 4, 5, 6, 7, 8, 9, 10, 11, 12, 13, 14, 15, 16, 17, 18, 19, 20, 21, 22, 23, 24, 25, 26, 27, 28, 29, 30, 31, 32, 33, 34, 35, 36, 37, 38, 39, 40, 41, 42, 43, 44, 45, 46, 47, 48, 49, 50, 51, 52, 53, 54, 55, 56, 57, 58, 59, 60]\n"
     ]
    }
   ],
   "source": [
    "start = time()\n",
    "train_set = musicnet.MusicNet(root=root_1, epoch_size=train_size,sequence=sequence\n",
    "                              , train=True, download=False, refresh_cache=False, \n",
    "                              window=window, mmap=False, pitch_shift=pitch_shift, jitter=jitter)\n",
    "test_set = musicnet.MusicNet(root=root_2, train=False, download=False,sequence=sequence\n",
    "                             , refresh_cache=False, window=window, epoch_size=test_size, mmap=False)\n",
    "print(\"Data loaded, time used = {:2.2f} seconds\".format(time()-start))\n",
    "\n",
    "train_loader = torch.utils.data.DataLoader(dataset=train_set,batch_size=batch_size,**kwargs)\n",
    "test_loader = torch.utils.data.DataLoader(dataset=test_set,batch_size=batch_size,**kwargs)\n",
    "\n",
    "\n",
    "print(\"TRAIN \", train_set.rec_ids)\n",
    "print(\"TEST \", test_set.rec_ids)\n",
    "\n",
    "# with train_set, test_set:\n",
    "#     for i, (x_test,y_test) in enumerate(test_loader):\n",
    "#         print(x_test,y_test)"
   ]
  },
  {
   "cell_type": "markdown",
   "metadata": {},
   "source": [
    "# Defining Models"
   ]
  },
  {
   "cell_type": "code",
   "execution_count": 9,
   "metadata": {},
   "outputs": [],
   "source": [
    "Loss = torch.nn.MSELoss()\n",
    "def L(yhatvar,y):\n",
    "    return Loss(yhatvar,y) * 128/2"
   ]
  },
  {
   "cell_type": "code",
   "execution_count": 10,
   "metadata": {},
   "outputs": [],
   "source": [
    "# freq_bins = 4096\n",
    "# epsilon=1e-5\n",
    "# class Model(torch.nn.Module):\n",
    "#     def __init__(self):\n",
    "#         super(Model, self).__init__()\n",
    "#         # Getting Mel Spectrogram on the fly\n",
    "\n",
    "#         self.STFT_layer = Spectrogram.STFT(sr=44100, n_fft=n_fft, freq_bins=freq_bins, fmin=50, fmax=6000, freq_scale='log', pad_mode='constant', center=True)\n",
    "#         self.n_bins = freq_bins\n",
    "#         # Creating Layers\n",
    "#         self.linear = torch.nn.Linear(self.n_bins*regions, m, bias=False)\n",
    "#         torch.nn.init.constant_(self.linear.weight, 0) # initialize\n",
    "        \n",
    "#     def forward(self,x):\n",
    "#         z = self.STFT_layer(x)\n",
    "#         y = self.linear((torch.log(z+epsilon)).view(x.data.size()[0], self.n_bins*regions))\n",
    "#         return torch.sigmoid(y)"
   ]
  },
  {
   "cell_type": "code",
   "execution_count": 11,
   "metadata": {},
   "outputs": [],
   "source": [
    "class Model(torch.nn.Module):\n",
    "    def __init__(self, avg=.9998):\n",
    "        super(Model, self).__init__()\n",
    "        # Create filter windows for stft\n",
    "        wsin, wcos = musicnet.create_filters(n_fft,k, windowing=\"hann\", freq_scale='log')\n",
    "        self.wsin = torch.tensor(wsin, dtype=torch.float).to(device)\n",
    "        self.wcos = torch.tensor(wcos, dtype=torch.float).to(device)\n",
    "     \n",
    "        # Creating Layers\n",
    "        self.linear = torch.nn.Linear(25*k, m, bias=False)\n",
    "        torch.nn.init.constant_(self.linear.weight, 0) # initialize\n",
    "        \n",
    "        self.avg = avg\n",
    "        \n",
    "    def forward(self,x):\n",
    "        zx = conv1d(x[:,None,:], self.wsin, stride=stride).pow(2) \\\n",
    "           + conv1d(x[:,None,:], self.wcos, stride=stride).pow(2) # Doing STFT by using conv1d\n",
    "#         print(zx.shape)\n",
    "        return self.linear(torch.log(zx + 10e-8).view(x.data.size()[0],25*k))\n",
    "    "
   ]
  },
  {
   "cell_type": "code",
   "execution_count": 12,
   "metadata": {},
   "outputs": [
    {
     "data": {
      "text/plain": [
       "Model(\n",
       "  (linear): Linear(in_features=12800, out_features=128, bias=False)\n",
       ")"
      ]
     },
     "execution_count": 12,
     "metadata": {},
     "output_type": "execute_result"
    }
   ],
   "source": [
    "model = Model()\n",
    "model.to(device)"
   ]
  },
  {
   "cell_type": "code",
   "execution_count": 13,
   "metadata": {
    "scrolled": true
   },
   "outputs": [
    {
     "name": "stdout",
     "output_type": "stream",
     "text": [
      "epoch\ttrain loss\ttest loss\ttrain avg\ttest avg\ttime\tutime\n",
      "0\t0.958233\t1.190693\t0.592302\t0.736115\t29.8\t9.8\n",
      "1\t0.907198\t1.162607\t0.640043\t0.745965\t30.1\t10.0\n",
      "2\t0.897607\t1.198708\t0.645182\t0.743094\t29.8\t9.8\n",
      "3\t0.891274\t1.180117\t0.650638\t0.741658\t30.3\t10.4\n",
      "4\t0.892629\t1.188251\t0.649764\t0.743969\t30.9\t9.8\n",
      "5\t0.886107\t1.178786\t0.656574\t0.747027\t29.8\t9.8\n",
      "6\t0.892894\t1.182066\t0.653633\t0.745374\t29.7\t9.8\n",
      "7\t0.885768\t1.191929\t0.655870\t0.736378\t29.7\t9.8\n",
      "8\t0.890062\t1.180282\t0.654291\t0.739609\t29.8\t9.8\n",
      "9\t0.888915\t1.186128\t0.655620\t0.738530\t29.7\t9.8\n",
      "10\t0.884319\t1.206805\t0.657713\t0.737109\t29.8\t9.8\n",
      "11\t0.887964\t1.176542\t0.656682\t0.742177\t29.9\t9.8\n",
      "12\t0.884656\t1.190220\t0.657752\t0.747212\t31.6\t9.9\n",
      "13\t0.887417\t1.185186\t0.656725\t0.741857\t29.8\t10.0\n",
      "14\t0.884894\t1.159935\t0.657929\t0.743473\t29.6\t9.8\n",
      "15\t0.883734\t1.168030\t0.658438\t0.746171\t29.6\t9.8\n",
      "16\t0.887358\t1.181543\t0.657234\t0.741468\t29.6\t9.7\n",
      "17\t0.880648\t1.203131\t0.657526\t0.743392\t29.7\t9.7\n",
      "18\t0.886234\t1.158414\t0.657964\t0.742933\t29.5\t9.7\n",
      "19\t0.886807\t1.225804\t0.657928\t0.737606\t29.7\t9.8\n",
      "Finsihed\n"
     ]
    }
   ],
   "source": [
    "optimizer = torch.optim.SGD(model.parameters(), lr=lr, momentum=momentum)\n",
    "# optimizer = SWA(base_opt, swa_start=0, swa_freq=1, swa_lr=0.000001)\n",
    "\n",
    "try:\n",
    "    with train_set, test_set:\n",
    "        print(\"epoch\\ttrain loss\\ttest loss\\ttrain avg\\ttest avg\\ttime\\tutime\")\n",
    "        for e in range(epochs):\n",
    "            yground = torch.Tensor(batch_size*len(train_loader), m) # what not do this together with loss\n",
    "            yhat = torch.Tensor(batch_size*len(train_loader), m)\n",
    "            avgp, loss_e = 0.,0\n",
    "            t = time()\n",
    "            for i, (x,y) in enumerate(train_loader):\n",
    "                print(f\"training {i}/{len(train_loader)} batches\", end = '\\r')\n",
    "                optimizer.zero_grad()\n",
    "                \n",
    "                # making x and y into pytorch dealable format\n",
    "                x = x.to(device, non_blocking=True)\n",
    "                y = y.to(device, non_blocking=True)\n",
    "                yhatvar = model(x)\n",
    "                loss = L(yhatvar,y)\n",
    "                loss.backward()\n",
    "                loss_e += loss.item() #getting the number\n",
    "                \n",
    "                yground[i*batch_size:(i+1)*batch_size] = y.data\n",
    "                yhat[i*batch_size:(i+1)*batch_size] = yhatvar.data\n",
    "                \n",
    "                optimizer.step()\n",
    "            avgp = average_precision_score(yground.cpu().flatten(),yhat.cpu().flatten())  \n",
    "            \n",
    "            result_dict['loss_history_train'].append(loss_e/len(train_loader))\n",
    "            result_dict['avgp_history_train'].append(avgp)   \n",
    "            t1 = time()\n",
    "            avgp, loss_e = 0.,0.           \n",
    "#             optimizer.swap_swa_sgd() # change to average weight\n",
    "            \n",
    "            # For testing\n",
    "            yground = torch.Tensor(batch_size*len(test_loader), m) # what not do this together with loss\n",
    "            yhat = torch.Tensor(batch_size*len(test_loader), m)\n",
    "            \n",
    "            for i, (x_test,y_test) in enumerate(test_loader):\n",
    "                print(f\"testing {i}/{len(test_loader)} batches\", end = '\\r')\n",
    "                x_test = x_test.to(device)\n",
    "                y_test = y_test.to(device)\n",
    "                yhatvar = model(x_test)\n",
    "                loss_e += L(yhatvar, y_test).item() #getting the number\n",
    "\n",
    "                yground[i*batch_size:(i+1)*batch_size] = y_test.data\n",
    "                yhat[i*batch_size:(i+1)*batch_size] = yhatvar.data\n",
    "            avgp = average_precision_score(yground.cpu().flatten(),yhat.cpu().flatten())\n",
    "            result_dict['loss_history_test'].append(loss_e/len(test_loader))\n",
    "            result_dict['avgp_history_test'].append(avgp)\n",
    "            print('{}\\t{:2f}\\t{:2f}\\t{:2f}\\t{:2f}\\t{:2.1f}\\t{:2.1f}'.\\\n",
    "                  format(e,\n",
    "                         result_dict['loss_history_train'][-1],result_dict['loss_history_test'][-1],\n",
    "                         result_dict['avgp_history_train'][-1],result_dict['avgp_history_test'][-1],\n",
    "                         time()-t, time()-t1))\n",
    "\n",
    "\n",
    "        \n",
    "except KeyboardInterrupt:\n",
    "    print('Graceful Exit')\n",
    "else:\n",
    "    print(\"Finsihed\")\n",
    "    "
   ]
  },
  {
   "cell_type": "code",
   "execution_count": 14,
   "metadata": {},
   "outputs": [
    {
     "data": {
      "text/plain": [
       "(0.3, 0.8)"
      ]
     },
     "execution_count": 14,
     "metadata": {},
     "output_type": "execute_result"
    },
    {
     "data": {
      "image/png": "[encoded data removed]",
      "text/plain": [
       "<Figure size 720x288 with 2 Axes>"
      ]
     },
     "metadata": {
      "needs_background": "light"
     },
     "output_type": "display_data"
    }
   ],
   "source": [
    "fig, ax = plt.subplots(1, 2, figsize=(10,4))\n",
    "\n",
    "ax[0].plot(result_dict['loss_history_train'])\n",
    "ax[0].plot(result_dict['loss_history_test'])\n",
    "ax[0].legend(['train', 'test'])\n",
    "ax[0].set_title('Loss', size=20)\n",
    "\n",
    "ax[1].plot(result_dict['avgp_history_train'])\n",
    "ax[1].plot(result_dict['avgp_history_test'])\n",
    "ax[1].legend(['train', 'test'])\n",
    "ax[1].set_title('Accuracy', size=20)\n",
    "ax[1].set_ylim(0.3,0.80)"
   ]
  },
  {
   "cell_type": "markdown",
   "metadata": {},
   "source": [
    "# Mir_Eval stats"
   ]
  },
  {
   "cell_type": "code",
   "execution_count": 16,
   "metadata": {},
   "outputs": [
    {
     "name": "stdout",
     "output_type": "stream",
     "text": [
      "AvgP\tP\tR\tAcc\tETot\tESub\tEmiss\tEfa\n",
      "78.80\t90.65\t49.68\t0.47\t0.53\t0.03\t0.48\t0.03        \n",
      "76.56\t92.80\t25.43\t0.25\t0.75\t0.02\t0.73\t0.00        \n",
      "89.62\t94.85\t66.76\t0.64\t0.35\t0.02\t0.31\t0.02        \n",
      "89.36\t95.06\t71.75\t0.69\t0.30\t0.02\t0.27\t0.02        \n",
      "73.01\t90.28\t30.37\t0.29\t0.72\t0.01\t0.68\t0.02        \n",
      "59.39\t65.80\t41.40\t0.34\t0.71\t0.09\t0.49\t0.12        \n",
      "78.53\t92.71\t38.62\t0.37\t0.62\t0.02\t0.59\t0.01        \n",
      "76.04\t90.88\t38.30\t0.37\t0.63\t0.02\t0.59\t0.01        \n",
      "75.94\t92.64\t36.25\t0.35\t0.65\t0.02\t0.62\t0.01        \n",
      "82.52\t90.15\t58.93\t0.55\t0.45\t0.03\t0.38\t0.04        \n",
      "77.51\t91.63\t43.78\t0.42\t0.59\t0.01\t0.55\t0.03        \n",
      "50.78\t53.34\t44.47\t0.32\t0.88\t0.06\t0.49\t0.32        \n",
      "57.62\t78.78\t29.03\t0.27\t0.76\t0.03\t0.68\t0.05        \n",
      "52.64\t76.64\t27.80\t0.26\t0.78\t0.03\t0.69\t0.06        \n",
      "59.10\t86.87\t23.53\t0.23\t0.79\t0.01\t0.75\t0.02        \n",
      "68.54\t96.94\t29.99\t0.30\t0.70\t0.01\t0.69\t0.00        \n",
      "75.25\t80.00\t52.59\t0.46\t0.54\t0.07\t0.40\t0.06        \n",
      "80.10\t87.28\t57.89\t0.53\t0.45\t0.06\t0.37\t0.03        \n",
      "79.47\t77.88\t68.73\t0.58\t0.43\t0.08\t0.24\t0.12        \n",
      "68.04\t84.16\t38.02\t0.35\t0.66\t0.03\t0.59\t0.04        \n",
      "71.66\t85.47\t45.82\t0.43\t0.59\t0.03\t0.51\t0.04        \n",
      "74.61\t86.58\t50.20\t0.47\t0.55\t0.03\t0.47\t0.05        \n",
      "83.71\t89.24\t64.78\t0.60\t0.39\t0.04\t0.31\t0.04        \n",
      "69.64\t88.88\t38.71\t0.37\t0.63\t0.03\t0.58\t0.02        \n",
      "83.72\t92.65\t48.04\t0.46\t0.53\t0.02\t0.49\t0.01        \n",
      "78.63\t86.83\t55.00\t0.51\t0.49\t0.04\t0.41\t0.04        \n",
      "84.03\t92.10\t64.91\t0.61\t0.38\t0.03\t0.33\t0.03        \n",
      "84.44\t91.20\t64.21\t0.60\t0.40\t0.02\t0.34\t0.04        \n",
      "79.26\t85.49\t47.54\t0.44\t0.58\t0.03\t0.50\t0.06        \n",
      "72.77\t85.19\t41.57\t0.39\t0.61\t0.04\t0.54\t0.03        \n",
      "86.40\t94.30\t57.35\t0.55\t0.43\t0.03\t0.40\t0.01        \n",
      "79.09\t89.24\t50.64\t0.48\t0.52\t0.03\t0.46\t0.03        \n",
      "75.27\t89.18\t52.32\t0.49\t0.50\t0.04\t0.44\t0.03        \n",
      "75.14\t91.95\t42.66\t0.41\t0.59\t0.02\t0.55\t0.01        \n",
      "90.92\t89.28\t75.26\t0.69\t0.30\t0.04\t0.21\t0.05        \n",
      "58.58\t90.92\t13.20\t0.13\t0.87\t0.01\t0.86\t0.00        \n",
      "74.39\t87.96\t30.02\t0.29\t0.71\t0.03\t0.67\t0.01        \n",
      "79.92\t92.31\t53.47\t0.51\t0.48\t0.03\t0.44\t0.02        \n",
      "76.65\t85.95\t52.10\t0.48\t0.52\t0.04\t0.44\t0.05        \n",
      "76.55\t88.25\t46.26\t0.44\t0.57\t0.03\t0.51\t0.04        \n",
      "54.85\t81.46\t23.17\t0.22\t0.80\t0.02\t0.75\t0.03        \n",
      "54.33\t81.67\t21.94\t0.21\t0.80\t0.03\t0.75\t0.02        \n",
      "53.06\t77.03\t28.97\t0.27\t0.77\t0.03\t0.68\t0.06        \n",
      "78.09\t77.64\t65.73\t0.55\t0.46\t0.07\t0.27\t0.12        \n",
      "86.92\t88.68\t68.81\t0.63\t0.37\t0.03\t0.28\t0.06        \n",
      "67.42\t70.56\t51.00\t0.42\t0.63\t0.07\t0.42\t0.14        \n",
      "83.19\t91.22\t63.38\t0.60\t0.40\t0.03\t0.34\t0.03        \n",
      "90.90\t87.13\t79.75\t0.71\t0.29\t0.03\t0.17\t0.09        \n",
      "84.54\t80.84\t74.93\t0.64\t0.39\t0.04\t0.21\t0.14        \n",
      "74.66\t74.54\t66.22\t0.54\t0.52\t0.04\t0.29\t0.18        \n",
      "76.52\t81.25\t61.04\t0.54\t0.49\t0.05\t0.34\t0.10        \n",
      "77.81\t83.07\t56.41\t0.51\t0.48\t0.07\t0.37\t0.05        \n",
      "79.73\t87.43\t54.70\t0.51\t0.49\t0.04\t0.41\t0.03        \n",
      "70.39\t85.82\t38.95\t0.37\t0.64\t0.03\t0.58\t0.03        \n",
      "86.72\t90.10\t67.96\t0.63\t0.36\t0.04\t0.28\t0.04        \n",
      "73.45\t90.43\t46.75\t0.45\t0.54\t0.04\t0.49\t0.01        \n",
      "74.96\t86.15\t47.81\t0.44\t0.55\t0.05\t0.47\t0.03        \n",
      "79.01\t88.14\t57.90\t0.54\t0.46\t0.04\t0.38\t0.04        \n",
      "85.24\t89.31\t68.46\t0.63\t0.36\t0.04\t0.28\t0.04        \n",
      "86.59\t90.06\t67.53\t0.63\t0.37\t0.03\t0.30\t0.05        \n"
     ]
    }
   ],
   "source": [
    "print('AvgP\\tP\\tR\\tAcc\\tETot\\tESub\\tEmiss\\tEfa')\n",
    "Accavg = 0\n",
    "Etotavg = 0\n",
    "Pavg = 0\n",
    "Ravg = 0\n",
    "model.eval()\n",
    "for songid in test_set.rec_ids:\n",
    "    Y_pred, Y_true = musicnet.get_piano_roll(songid, test_set, model, device,\n",
    "                                             window=window, m=m, stride=-1)\n",
    "    _,P,R,Acc,Etot = musicnet.get_mir_accuracy(Y_pred, Y_true, m=m)\n",
    "    Accavg += Acc\n",
    "    Etotavg += Etot\n",
    "    Pavg += P\n",
    "    Ravg += R"
   ]
  },
  {
   "cell_type": "code",
   "execution_count": 21,
   "metadata": {},
   "outputs": [
    {
     "name": "stdout",
     "output_type": "stream",
     "text": [
      "50000\n",
      "Average Precision: \t86.25\n",
      "Average Recall: \t49.65\n"
     ]
    }
   ],
   "source": [
    "print(len(test_set))\n",
    "print('Average Precision: \\t{:2.2f}\\nAverage Recall: \\t{:2.2f}'\n",
    "      .format(Pavg/len(test_set.rec_ids)*100, Ravg/len(test_set.rec_ids)*100))"
   ]
  },
  {
   "cell_type": "code",
   "execution_count": 22,
   "metadata": {},
   "outputs": [
    {
     "name": "stdout",
     "output_type": "stream",
     "text": [
      "50000\n",
      "Average Accuracy: \t45.72\n",
      "Average Error: \t\t55.18\n"
     ]
    }
   ],
   "source": [
    "print(len(test_set))\n",
    "print('Average Accuracy: \\t{:2.2f}\\nAverage Error: \\t\\t{:2.2f}'\n",
    "      .format(Accavg/len(test_set.rec_ids)*100, Etotavg/len(test_set.rec_ids)*100))"
   ]
  },
  {
   "cell_type": "markdown",
   "metadata": {},
   "source": [
    "# Saving weights and results"
   ]
  },
  {
   "cell_type": "code",
   "execution_count": 23,
   "metadata": {},
   "outputs": [],
   "source": [
    "torch.save(model.state_dict(), './weights/MAPS')\n",
    "with open('./result_dict/MAPS', 'wb') as f:\n",
    "    pickle.dump(result_dict, f)"
   ]
  },
  {
   "cell_type": "code",
   "execution_count": null,
   "metadata": {},
   "outputs": [],
   "source": []
  },
  {
   "cell_type": "code",
   "execution_count": null,
   "metadata": {},
   "outputs": [],
   "source": []
  }
 ],
 "metadata": {
  "kernelspec": {
   "display_name": "Python 3",
   "language": "python",
   "name": "python3"
  },
  "language_info": {
   "codemirror_mode": {
    "name": "ipython",
    "version": 3
   },
   "file_extension": ".py",
   "mimetype": "text/x-python",
   "name": "python",
   "nbconvert_exporter": "python",
   "pygments_lexer": "ipython3",
   "version": "3.6.8"
  }
 },
 "nbformat": 4,
 "nbformat_minor": 2
}

{
 "cells": [
  {
   "cell_type": "code",
   "execution_count": 7,
   "metadata": {},
   "outputs": [],
   "source": [
    "import csv\n",
    "import numpy as np\n",
    "import sys\n",
    "import os,mmap\n",
    "import os.path\n",
    "import pickle\n",
    "import math\n",
    "from intervaltree import IntervalTree\n",
    "import wave\n",
    "from scipy.io import wavfile"
   ]
  },
  {
   "cell_type": "code",
   "execution_count": 7,
   "metadata": {},
   "outputs": [],
   "source": [
    "# Change this directories to match your own path\n",
    "# Run once with first one uncommented and then run with the second one uncommented (comment out the first) \n",
    "\n",
    "path = \"../MAPS/ENSTDkAm/MUS/\"\n",
    "path2 = \"../MAPS/ENSTDkCl/MUS/\"\n",
    "\n",
    "musicnet_path = \"./data/train_labels/\""
   ]
  },
  {
   "cell_type": "code",
   "execution_count": 14,
   "metadata": {},
   "outputs": [],
   "source": [
    "from shutil import copyfile"
   ]
  },
  {
   "cell_type": "code",
   "execution_count": 18,
   "metadata": {},
   "outputs": [],
   "source": [
    "# Create folders\n",
    "path_out = '../MAPS/TEST2/'\n",
    "\n",
    "if not os.path.exists(path_out+\"train_data\"):\n",
    "    os.mkdir(path_out+\"train_data\")\n",
    "if not os.path.exists(path_out+\"train_labels\"):\n",
    "    os.mkdir(path_out+\"train_labels\")\n",
    "if not os.path.exists(path_out+\"test_data\"):\n",
    "    os.mkdir(path_out+\"test_data\")\n",
    "if not os.path.exists(path_out+\"test_labels\"):\n",
    "    os.mkdir(path_out+\"test_labels\")\n",
    "\n",
    "if not os.path.exists(path_out+'train_labels/'+'train_tree.pckl'):\n",
    "    copyfile(musicnet_path+'train_tree.pckl', path_out+'train_labels/train_tree.pckl')"
   ]
  },
  {
   "cell_type": "code",
   "execution_count": 29,
   "metadata": {},
   "outputs": [
    {
     "data": {
      "text/plain": [
       "['MAPS_MUS-schu_143_1_ENSTDkAm.wav',\n",
       " 'MAPS_MUS-muss_1_ENSTDkAm.txt',\n",
       " 'MAPS_MUS-chpn_op66_ENSTDkAm.wav',\n",
       " 'MAPS_MUS-muss_1_ENSTDkAm.mid',\n",
       " 'MAPS_MUS-chpn-p14_ENSTDkAm.txt',\n",
       " 'MAPS_MUS-scn16_4_ENSTDkAm.wav',\n",
       " 'MAPS_MUS-liz_rhap09_ENSTDkAm.wav',\n",
       " 'MAPS_MUS-schumm-1_ENSTDkAm.txt',\n",
       " 'MAPS_MUS-grieg_butterfly_ENSTDkAm.wav',\n",
       " 'MAPS_MUS-chpn_op25_e4_ENSTDkAm.wav',\n",
       " 'MAPS_MUS-mendel_op62_5_ENSTDkAm.mid',\n",
       " 'MAPS_MUS-chpn_op25_e3_ENSTDkAm.wav',\n",
       " 'MAPS_MUS-pathetique_3_ENSTDkAm.txt',\n",
       " 'MAPS_MUS-schu_143_1_ENSTDkAm.mid',\n",
       " 'MAPS_MUS-chpn_op35_1_ENSTDkAm.txt',\n",
       " 'MAPS_MUS-scn15_6_ENSTDkAm.txt',\n",
       " 'MAPS_MUS-ty_mai_ENSTDkAm.mid',\n",
       " 'MAPS_MUS-chpn-p4_ENSTDkAm.txt',\n",
       " 'MAPS_MUS-chpn_op25_e3_ENSTDkAm.mid',\n",
       " 'MAPS_MUS-chpn_op25_e4_ENSTDkAm.mid',\n",
       " 'MAPS_MUS-ty_november_ENSTDkAm.mid',\n",
       " 'MAPS_MUS-pathetique_3_ENSTDkAm.wav',\n",
       " 'MAPS_MUS-mendel_op62_5_ENSTDkAm.wav',\n",
       " 'MAPS_MUS-pathetique_2_ENSTDkAm.wav',\n",
       " 'MAPS_MUS-scn16_4_ENSTDkAm.mid',\n",
       " 'MAPS_MUS-bk_xmas1_ENSTDkAm.mid',\n",
       " 'MAPS_MUS-bk_xmas1_ENSTDkAm.txt',\n",
       " 'MAPS_MUS-chpn-p14_ENSTDkAm.mid',\n",
       " 'MAPS_MUS-chpn_op35_1_ENSTDkAm.mid',\n",
       " 'MAPS_MUS-chpn_op66_ENSTDkAm.txt',\n",
       " 'MAPS_MUS-chpn-p15_ENSTDkAm.txt',\n",
       " 'MAPS_MUS-scn15_9_ENSTDkAm.txt',\n",
       " 'MAPS_MUS-chpn_op7_1_ENSTDkAm.mid',\n",
       " 'MAPS_MUS-ty_mai_ENSTDkAm.wav',\n",
       " 'MAPS_MUS-ty_november_ENSTDkAm.txt',\n",
       " 'MAPS_MUS-chpn_op7_1_ENSTDkAm.wav',\n",
       " 'MAPS_MUS-chpn-p14_ENSTDkAm.wav',\n",
       " 'MAPS_MUS-mendel_op62_5_ENSTDkAm.txt',\n",
       " 'MAPS_MUS-waldstein_1_ENSTDkAm.mid',\n",
       " 'MAPS_MUS-scn15_9_ENSTDkAm.mid',\n",
       " 'MAPS_MUS-liz_rhap02_ENSTDkAm.wav',\n",
       " 'MAPS_MUS-liz_rhap02_ENSTDkAm.mid',\n",
       " 'MAPS_MUS-schub_d760_3_ENSTDkAm.mid',\n",
       " 'MAPS_MUS-chpn_op66_ENSTDkAm.mid',\n",
       " 'MAPS_MUS-chpn_op33_2_ENSTDkAm.txt',\n",
       " 'MAPS_MUS-grieg_kobold_ENSTDkAm.wav',\n",
       " 'MAPS_MUS-scn15_6_ENSTDkAm.mid',\n",
       " 'MAPS_MUS-pathetique_2_ENSTDkAm.txt',\n",
       " 'MAPS_MUS-schub_d760_3_ENSTDkAm.txt',\n",
       " 'MAPS_MUS-liz_rhap12_ENSTDkAm.txt',\n",
       " 'MAPS_MUS-liz_rhap12_ENSTDkAm.mid',\n",
       " 'MAPS_MUS-pathetique_3_ENSTDkAm.mid',\n",
       " 'MAPS_MUS-schumm-1_ENSTDkAm.wav',\n",
       " 'MAPS_MUS-schumm-1_ENSTDkAm.mid',\n",
       " 'MAPS_MUS-scn15_11_ENSTDkAm.mid',\n",
       " 'MAPS_MUS-chpn-p4_ENSTDkAm.mid',\n",
       " 'MAPS_MUS-ty_november_ENSTDkAm.wav',\n",
       " 'MAPS_MUS-scn15_9_ENSTDkAm.wav',\n",
       " 'MAPS_MUS-liz_rhap09_ENSTDkAm.txt',\n",
       " 'MAPS_MUS-ty_maerz_ENSTDkAm.wav',\n",
       " 'MAPS_MUS-liz_rhap09_ENSTDkAm.mid',\n",
       " 'MAPS_MUS-chpn_op33_2_ENSTDkAm.mid',\n",
       " 'MAPS_MUS-chpn_op25_e3_ENSTDkAm.txt',\n",
       " 'MAPS_MUS-scn15_11_ENSTDkAm.txt',\n",
       " 'MAPS_MUS-grieg_kobold_ENSTDkAm.txt',\n",
       " 'MAPS_MUS-grieg_butterfly_ENSTDkAm.txt',\n",
       " 'MAPS_MUS-liz_rhap02_ENSTDkAm.txt',\n",
       " 'MAPS_MUS-grieg_kobold_ENSTDkAm.mid',\n",
       " 'MAPS_MUS-chpn_op35_1_ENSTDkAm.wav',\n",
       " 'MAPS_MUS-bk_xmas1_ENSTDkAm.wav',\n",
       " 'MAPS_MUS-scn15_11_ENSTDkAm.wav',\n",
       " 'MAPS_MUS-pathetique_2_ENSTDkAm.mid',\n",
       " 'MAPS_MUS-ty_maerz_ENSTDkAm.mid',\n",
       " 'MAPS_MUS-waldstein_1_ENSTDkAm.wav',\n",
       " 'MAPS_MUS-chpn_op7_1_ENSTDkAm.txt',\n",
       " 'MAPS_MUS-scn15_6_ENSTDkAm.wav',\n",
       " 'MAPS_MUS-scn16_4_ENSTDkAm.txt',\n",
       " 'MAPS_MUS-muss_1_ENSTDkAm.wav',\n",
       " 'MAPS_MUS-schu_143_1_ENSTDkAm.txt',\n",
       " 'MAPS_MUS-ty_mai_ENSTDkAm.txt',\n",
       " 'MAPS_MUS-chpn_op33_2_ENSTDkAm.wav',\n",
       " 'MAPS_MUS-chpn-p15_ENSTDkAm.mid',\n",
       " 'MAPS_MUS-waldstein_1_ENSTDkAm.txt',\n",
       " 'MAPS_MUS-schub_d760_3_ENSTDkAm.wav',\n",
       " 'MAPS_MUS-chpn-p15_ENSTDkAm.wav',\n",
       " 'MAPS_MUS-chpn-p4_ENSTDkAm.wav',\n",
       " 'MAPS_MUS-grieg_butterfly_ENSTDkAm.mid',\n",
       " 'MAPS_MUS-chpn_op25_e4_ENSTDkAm.txt',\n",
       " 'MAPS_MUS-ty_maerz_ENSTDkAm.txt',\n",
       " 'MAPS_MUS-liz_rhap12_ENSTDkAm.wav']"
      ]
     },
     "execution_count": 29,
     "metadata": {},
     "output_type": "execute_result"
    }
   ],
   "source": [
    "os.listdir(path)"
   ]
  },
  {
   "cell_type": "code",
   "execution_count": 21,
   "metadata": {},
   "outputs": [
    {
     "name": "stdout",
     "output_type": "stream",
     "text": [
      "[1, 2, 3, 4, 5, 6, 7, 8, 9, 10, 11, 12, 13, 14, 15, 16, 17, 18, 19, 20, 21, 22, 23, 24, 25, 26, 27, 28, 29, 30, 31, 32, 33, 34, 35, 36, 37, 38, 39, 40, 41, 42, 43, 44, 45, 46, 47, 48, 49, 50, 51, 52, 53, 54, 55, 56, 57, 58, 59, 60]\n"
     ]
    }
   ],
   "source": [
    "# Create dictonary of interval trees from .txt files (labels)\n",
    "d = {}\n",
    "counter = 1\n",
    "list_of_files = os.listdir(path)\n",
    "for l in list_of_files:\n",
    "    if l[-4:] == \".txt\":\n",
    "        t = IntervalTree()\n",
    "        with open(path + l, 'r') as f:\n",
    "            line = f.readline()\n",
    "            line = f.readline()\n",
    "            while line:\n",
    "                sl = line.split()\n",
    "                if sl:\n",
    "                    a = [round(float(sl[0])*44100), round(float(sl[1])*44100), int(sl[2])]\n",
    "                    t[a[0]:a[1]] = (1, a[2], 1, 1, \"Half\")\n",
    "                line = f.readline()\n",
    "        d[counter] = t\n",
    "        #d[int(l[:-4])] = t\n",
    "        counter += 1\n",
    "        \n",
    "list_of_files = os.listdir(path2)\n",
    "for l in list_of_files:\n",
    "    if l[-4:] == \".txt\":\n",
    "        t = IntervalTree()\n",
    "        with open(path2 + l, 'r') as f:\n",
    "            line = f.readline()\n",
    "            line = f.readline()\n",
    "            while line:\n",
    "                sl = line.split()\n",
    "                if sl:\n",
    "                    a = [round(float(sl[0])*44100), round(float(sl[1])*44100), int(sl[2])]\n",
    "                    t[a[0]:a[1]] = (1, a[2], 1, 1, \"Half\")\n",
    "                line = f.readline()\n",
    "        d[counter] = t\n",
    "        #d[int(l[:-4])] = t\n",
    "        counter += 1\n",
    "\n",
    "#print(d)\n",
    "l = list(d.keys())\n",
    "print(l)\n",
    "with open(path_out+'//test_labels//test_tree.pckl', 'wb') as f:\n",
    "    pickle.dump(d, f)"
   ]
  },
  {
   "cell_type": "code",
   "execution_count": 25,
   "metadata": {},
   "outputs": [],
   "source": [
    "list_of_files2 = os.listdir(path)\n",
    "counter = 1\n",
    "for l in list_of_files2:\n",
    "    #print(l)\n",
    "    if l[-4:] == \".wav\":\n",
    "        #print(path + l)\n",
    "        fs, binary_data = wavfile.read(path + l)\n",
    "        # 32-bit mono - convereted from stereo to mono -> samples - this is similar to musicnet (?)\n",
    "        audio = (binary_data[:,0] + binary_data[:,1]).astype(np.float32)/(2*16384.)\n",
    "        #binary_data.tofile(os.path.join(path,\"test_data\\\\\"+l[:-4]+'.bin'))\n",
    "        audio.tofile(os.path.join(path_out,\"test_data/\"+str(counter)+'.bin'))\n",
    "        counter += 1\n",
    "        \n",
    "list_of_files2 = os.listdir(path2)\n",
    "for l in list_of_files2:\n",
    "    #print(l)\n",
    "    if l[-4:] == \".wav\":\n",
    "        #print(path + l)\n",
    "        fs, binary_data = wavfile.read(path2 + l)\n",
    "        # 32-bit mono - convereted from stereo to mono -> samples - this is similar to musicnet (?)\n",
    "        audio = (binary_data[:,0] + binary_data[:,1]).astype(np.float32)/(2*16384.)\n",
    "        #binary_data.tofile(os.path.join(path,\"test_data\\\\\"+l[:-4]+'.bin'))\n",
    "        audio.tofile(os.path.join(path_out,\"test_data/\"+str(counter)+'.bin'))\n",
    "        counter += 1"
   ]
  },
  {
   "cell_type": "code",
   "execution_count": 37,
   "metadata": {},
   "outputs": [],
   "source": [
    "output = wavfile.read('../MAPS/ENSTDkAm/MUS/MAPS_MUS-schu_143_1_ENSTDkAm.wav')[1].mean(1)/(2*16384.)"
   ]
  },
  {
   "cell_type": "code",
   "execution_count": 38,
   "metadata": {},
   "outputs": [
    {
     "data": {
      "text/plain": [
       "dtype('float64')"
      ]
     },
     "execution_count": 38,
     "metadata": {},
     "output_type": "execute_result"
    }
   ],
   "source": [
    "output.dtype"
   ]
  },
  {
   "cell_type": "code",
   "execution_count": null,
   "metadata": {},
   "outputs": [],
   "source": []
  }
 ],
 "metadata": {
  "kernelspec": {
   "display_name": "Python 3",
   "language": "python",
   "name": "python3"
  },
  "language_info": {
   "codemirror_mode": {
    "name": "ipython",
    "version": 3
   },
   "file_extension": ".py",
   "mimetype": "text/x-python",
   "name": "python",
   "nbconvert_exporter": "python",
   "pygments_lexer": "ipython3",
   "version": "3.6.8"
  }
 },
 "nbformat": 4,
 "nbformat_minor": 2
}

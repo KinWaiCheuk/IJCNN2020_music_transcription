{
 "cells": [
  {
   "cell_type": "code",
   "execution_count": 1,
   "metadata": {},
   "outputs": [],
   "source": [
    "import os,sys,signal\n",
    "import math\n",
    "\n",
    "import pickle\n",
    "import numpy as np                                       # fast vectors and matrices\n",
    "import matplotlib.pyplot as plt                          # plotting\n",
    "\n",
    "import musicnet\n",
    "\n",
    "from time import time\n",
    "\n",
    "from sklearn.metrics import average_precision_score\n",
    "\n",
    "os.environ['CUDA_DEVICE_ORDER']='PCI_BUS_ID'   # see issue #152\n",
    "os.environ['CUDA_VISIBLE_DEVICES']='3'\n",
    "\n",
    "import torch\n",
    "from torch.nn.functional import conv1d, mse_loss\n",
    "import torch.nn.functional as F\n",
    "import torch.nn as nn\n",
    "\n",
    "if torch.cuda.is_available():\n",
    "    device = \"cuda:0\"\n",
    "    torch.set_default_tensor_type('torch.cuda.FloatTensor')"
   ]
  },
  {
   "cell_type": "code",
   "execution_count": 3,
   "metadata": {},
   "outputs": [],
   "source": [
    "# Network Parameters\n",
    "epochs = 60\n",
    "train_size = 100000\n",
    "test_size = 50000\n",
    "\n",
    "lr = 0.0001\n",
    "momentum = .95\n",
    "\n",
    "pitch_shift = 0\n",
    "jitter = 0.\n",
    "num_workers = 10\n",
    "sequence = 1\n",
    "\n",
    "# lvl1 convolutions are shared between regions\n",
    "m = 128\n",
    "k = 512              # lvl1 nodes\n",
    "n_fft = 4096              # lvl1 receptive field\n",
    "window = 16384 # total number of audio samples?\n",
    "stride = 512\n",
    "batch_size = 100\n",
    "\n",
    "regions = 1 + (window - n_fft)//stride\n",
    "\n",
    "def worker_init(args):\n",
    "    signal.signal(signal.SIGINT, signal.SIG_IGN) # ignore signals so parent can handle them\n",
    "    np.random.seed(os.getpid() ^ int(time())) # approximately random seed for workers\n",
    "kwargs = {'num_workers': num_workers, 'pin_memory': True, 'worker_init_fn': worker_init}"
   ]
  },
  {
   "cell_type": "code",
   "execution_count": 4,
   "metadata": {},
   "outputs": [],
   "source": [
    "# function for returning scientific notation in a plot\n",
    "def fmt(x, pos):\n",
    "    a, b = '{:.0e}'.format(x).split('e')\n",
    "    b = int(b)\n",
    "    return fr'${a} \\times 10^{{{b}}}$'"
   ]
  },
  {
   "cell_type": "code",
   "execution_count": 5,
   "metadata": {},
   "outputs": [],
   "source": [
    "result_dict = {'loss_history_train': [],\n",
    "               'avgp_history_train': [],\n",
    "               'loss_history_test': [],\n",
    "               'avgp_history_test': [],\n",
    "               'parameters': {}}\n",
    "\n",
    "result_dict['parameters']['train_size'] = train_size\n",
    "result_dict['parameters']['test_size'] = test_size\n",
    "result_dict['parameters']['lr'] = lr\n",
    "result_dict['parameters']['pitch_shift'] = pitch_shift\n",
    "result_dict['parameters']['jitter'] = jitter"
   ]
  },
  {
   "cell_type": "markdown",
   "metadata": {},
   "source": [
    "# Preparing Dataset"
   ]
  },
  {
   "cell_type": "code",
   "execution_count": 6,
   "metadata": {},
   "outputs": [
    {
     "name": "stdout",
     "output_type": "stream",
     "text": [
      "Data loaded, time used = 28.32 seconds\n"
     ]
    }
   ],
   "source": [
    "start = time()\n",
    "root = './data/'\n",
    "train_set = musicnet.MusicNet(root=root, epoch_size=train_size,sequence=sequence\n",
    "                              , train=True, download=True, refresh_cache=False, \n",
    "                              window=window, mmap=False, pitch_shift=pitch_shift, jitter=jitter)\n",
    "test_set = musicnet.MusicNet(root=root, train=False, download=True,sequence=sequence\n",
    "                             , refresh_cache=False, window=window, epoch_size=test_size, mmap=False)\n",
    "print(\"Data loaded, time used = {:2.2f} seconds\".format(time()-start))\n",
    "\n",
    "train_loader = torch.utils.data.DataLoader(dataset=train_set,batch_size=batch_size,**kwargs)\n",
    "test_loader = torch.utils.data.DataLoader(dataset=test_set,batch_size=batch_size,**kwargs)"
   ]
  },
  {
   "cell_type": "markdown",
   "metadata": {},
   "source": [
    "# Defining Models"
   ]
  },
  {
   "cell_type": "code",
   "execution_count": 7,
   "metadata": {},
   "outputs": [],
   "source": [
    "Loss = torch.nn.MSELoss()\n",
    "def L(yhatvar,y):\n",
    "    return Loss(yhatvar,y) * 128/2"
   ]
  },
  {
   "cell_type": "code",
   "execution_count": 8,
   "metadata": {},
   "outputs": [],
   "source": [
    "class Model(torch.nn.Module):\n",
    "    def __init__(self, avg=.9998):\n",
    "        super(Model, self).__init__()      \n",
    "        # Create filter windows\n",
    "        wsin, wcos = musicnet.create_filters(n_fft,k, low=50, high=6000,\n",
    "                                      windowing=\"hann\", freq_scale='log')\n",
    "        self.wsin = torch.Tensor(wsin)\n",
    "        self.wcos = torch.Tensor(wcos)               \n",
    "        # Creating Layers\n",
    "        \n",
    "        k_out = 128\n",
    "        k2_out = 256\n",
    "        self.CNN_freq = nn.Conv2d(1,k_out,\n",
    "                                kernel_size=(128,1),stride=(2,1))\n",
    "        self.CNN_time = nn.Conv2d(k_out,k2_out,\n",
    "                                kernel_size=(1,25),stride=(1,1))        \n",
    "        self.linear = torch.nn.Linear(k2_out*193, m, bias=False)\n",
    "\n",
    "        # Initialize weights\n",
    "            # Do something\n",
    "        \n",
    "    def forward(self,x):\n",
    "        zx = conv1d(x[:,None,:], self.wsin, stride=stride).pow(2) \\\n",
    "           + conv1d(x[:,None,:], self.wcos, stride=stride).pow(2) # shape = (batch, 512,25)\n",
    "        zx = torch.log(zx + 1e-12)\n",
    "        z2 = torch.relu(self.CNN_freq(zx.unsqueeze(1))) # Make channel as 1 (N,C,H,W) shape = [10, 128, 193, 25]\n",
    "        z3 = torch.relu(self.CNN_time(z2)) # shape = [10, 256, 193, 1]\n",
    "        y = self.linear(torch.relu(torch.flatten(z3,1)))\n",
    "        return y"
   ]
  },
  {
   "cell_type": "code",
   "execution_count": 9,
   "metadata": {},
   "outputs": [],
   "source": [
    "model = Model()\n",
    "model.to(device)\n",
    "optimizer = torch.optim.Adam(model.parameters(), lr=lr)\n",
    "# optimizer = SWA(base_opt, swa_start=0, swa_freq=1, swa_lr=0.000001)"
   ]
  },
  {
   "cell_type": "code",
   "execution_count": 10,
   "metadata": {},
   "outputs": [
    {
     "name": "stdout",
     "output_type": "stream",
     "text": [
      "epoch\ttrain loss\ttest loss\ttrain avg\ttest avg\ttime\tutime\n",
      "0\t1.412534\t0.708797\t0.285272\t0.627864\t86.8\t8.3\n",
      "1\t0.860803\t0.642910\t0.634906\t0.660757\t85.6\t8.4\n",
      "2\t0.798981\t0.614793\t0.667633\t0.675413\t85.6\t8.4\n",
      "3\t0.768506\t0.595619\t0.681421\t0.685087\t88.6\t8.3\n",
      "4\t0.748312\t0.588655\t0.691682\t0.689174\t85.7\t8.4\n",
      "5\t0.734164\t0.579430\t0.700605\t0.697352\t85.8\t8.5\n",
      "6\t0.724752\t0.573856\t0.706786\t0.700808\t91.7\t8.4\n",
      "7\t0.713674\t0.593614\t0.714170\t0.697541\t85.6\t8.4\n",
      "8\t0.706549\t0.568665\t0.718628\t0.700458\t85.5\t8.4\n",
      "9\t0.695396\t0.562056\t0.724806\t0.710283\t85.6\t8.3\n",
      "10\t0.689468\t0.568263\t0.728789\t0.707626\t85.7\t8.4\n",
      "11\t0.683100\t0.552789\t0.733005\t0.711951\t85.7\t8.5\n",
      "12\t0.679732\t0.559086\t0.734442\t0.710331\t85.6\t8.4\n",
      "13\t0.673950\t0.546951\t0.740275\t0.715828\t86.0\t8.7\n",
      "14\t0.665851\t0.543400\t0.744185\t0.716964\t85.7\t8.4\n",
      "15\t0.666604\t0.551791\t0.741401\t0.716932\t85.6\t8.4\n",
      "16\t0.666806\t0.545739\t0.744141\t0.720969\t85.7\t8.4\n",
      "17\t0.659783\t0.568344\t0.747236\t0.717284\t85.6\t8.3\n",
      "18\t0.659153\t0.549361\t0.748662\t0.725409\t85.7\t8.3\n",
      "19\t0.651735\t0.554337\t0.754289\t0.726245\t85.5\t8.3\n",
      "20\t0.651747\t0.533170\t0.754522\t0.730264\t85.7\t8.4\n",
      "21\t0.648990\t0.536677\t0.756731\t0.727440\t85.6\t8.4\n",
      "22\t0.649920\t0.544854\t0.755235\t0.727185\t85.7\t8.4\n",
      "23\t0.644731\t0.538616\t0.756926\t0.726552\t85.6\t8.4\n",
      "24\t0.643361\t0.539309\t0.758766\t0.728484\t85.7\t8.4\n",
      "25\t0.645591\t0.533154\t0.759404\t0.728608\t85.4\t8.3\n",
      "26\t0.639594\t0.533594\t0.762052\t0.726947\t85.8\t8.4\n",
      "27\t0.642878\t0.531883\t0.760874\t0.730942\t85.7\t8.4\n",
      "28\t0.635917\t0.533678\t0.764919\t0.728902\t85.8\t8.4\n",
      "29\t0.633745\t0.533626\t0.764386\t0.732536\t85.8\t8.4\n",
      "30\t0.634645\t0.532618\t0.764159\t0.733214\t85.7\t8.5\n",
      "31\t0.632208\t0.530848\t0.766535\t0.728816\t85.6\t8.5\n",
      "32\t0.631061\t0.533016\t0.765436\t0.732798\t85.5\t8.3\n",
      "33\t0.628286\t0.528540\t0.768778\t0.729864\t85.8\t8.4\n",
      "34\t0.630721\t0.538213\t0.767059\t0.735194\t85.6\t8.4\n",
      "35\t0.626557\t0.527110\t0.769508\t0.734156\t85.8\t8.7\n",
      "36\t0.626867\t0.528051\t0.767805\t0.731495\t85.6\t8.5\n",
      "37\t0.621134\t0.529144\t0.772170\t0.735882\t85.5\t8.3\n",
      "38\t0.627312\t0.531168\t0.769632\t0.736595\t85.7\t8.3\n",
      "39\t0.626720\t0.522948\t0.769254\t0.732754\t85.7\t8.5\n",
      "40\t0.622257\t0.545761\t0.772827\t0.733899\t85.6\t8.4\n",
      "41\t0.619232\t0.530182\t0.774419\t0.735960\t85.6\t8.4\n",
      "42\t0.619847\t0.525415\t0.773249\t0.737423\t85.5\t8.3\n",
      "43\t0.618745\t0.520503\t0.773549\t0.736833\t86.0\t8.3\n",
      "44\t0.619071\t0.525179\t0.774050\t0.738082\t85.5\t8.3\n",
      "45\t0.618985\t0.520505\t0.773340\t0.738548\t85.7\t8.5\n",
      "46\t0.613590\t0.518679\t0.778122\t0.739174\t85.5\t8.4\n",
      "47\t0.613894\t0.518245\t0.777147\t0.734285\t85.7\t8.4\n",
      "48\t0.617359\t0.517025\t0.776079\t0.738356\t85.6\t8.4\n",
      "49\t0.615087\t0.522681\t0.777560\t0.732391\t85.4\t8.3\n",
      "50\t0.616750\t0.525081\t0.777199\t0.733710\t85.3\t8.3\n",
      "51\t0.615444\t0.523204\t0.776569\t0.731611\t85.8\t8.6\n",
      "52\t0.612104\t0.519503\t0.778685\t0.736600\t85.6\t8.5\n",
      "53\t0.613491\t0.518042\t0.776864\t0.738095\t85.5\t8.4\n",
      "54\t0.612017\t0.524728\t0.779675\t0.737083\t85.7\t8.4\n",
      "55\t0.614197\t0.524411\t0.777730\t0.734033\t85.5\t8.3\n",
      "56\t0.614479\t0.539788\t0.777371\t0.732887\t85.5\t8.4\n",
      "57\t0.613270\t0.520035\t0.776442\t0.735910\t85.5\t8.4\n",
      "58\t0.615517\t0.519319\t0.777599\t0.737005\t85.7\t8.4\n",
      "59\t0.611345\t0.525503\t0.778549\t0.733777\t85.4\t8.3\n",
      "Finsihed\n"
     ]
    }
   ],
   "source": [
    "try:\n",
    "    with train_set, test_set:\n",
    "        print(\"epoch\\ttrain loss\\ttest loss\\ttrain avg\\ttest avg\\ttime\\tutime\")\n",
    "        for e in range(epochs):\n",
    "            yground = torch.Tensor(batch_size*len(train_loader), m) # what not do this together with loss\n",
    "            yhat = torch.Tensor(batch_size*len(train_loader), m)\n",
    "            avgp, loss_e = 0.,0\n",
    "            t = time()\n",
    "            for i, (x,y) in enumerate(train_loader):\n",
    "                print(f\"training {i}/{len(train_loader)} batches\", end = '\\r')\n",
    "                optimizer.zero_grad()\n",
    "\n",
    "                # making x and y into pytorch dealable format\n",
    "                x = x.to(device, non_blocking=True)\n",
    "                y = y.to(device, non_blocking=True)\n",
    "                yhatvar = model(x)\n",
    "                loss = L(yhatvar,y)\n",
    "                loss.backward()\n",
    "                loss_e += loss.item() #getting the number\n",
    "\n",
    "                yground[i*batch_size:(i+1)*batch_size] = y.data\n",
    "                yhat[i*batch_size:(i+1)*batch_size] = yhatvar.data\n",
    "\n",
    "                optimizer.step()\n",
    "            avgp = average_precision_score(yground.cpu().flatten(),yhat.cpu().flatten())  \n",
    "\n",
    "            result_dict['loss_history_train'].append(loss_e/len(train_loader))\n",
    "            result_dict['avgp_history_train'].append(avgp)   \n",
    "            t1 = time()\n",
    "            avgp, loss_e = 0.,0.           \n",
    "#             optimizer.swap_swa_sgd() # change to average weight\n",
    "\n",
    "            # For testing\n",
    "            yground = torch.Tensor(batch_size*len(test_loader), m) # what not do this together with loss\n",
    "            yhat = torch.Tensor(batch_size*len(test_loader), m)\n",
    "\n",
    "            for i, (x_test,y_test) in enumerate(test_loader):\n",
    "                print(f\"testing {i}/{len(test_loader)} batches\", end = '\\r')\n",
    "                x_test = x_test.to(device)\n",
    "                y_test = y_test.to(device)\n",
    "                yhatvar = model(x_test)\n",
    "                loss_e += L(yhatvar, y_test).item() #getting the number\n",
    "\n",
    "                yground[i*batch_size:(i+1)*batch_size] = y_test.data\n",
    "                yhat[i*batch_size:(i+1)*batch_size] = yhatvar.data\n",
    "            avgp = average_precision_score(yground.cpu().flatten(),yhat.cpu().flatten())\n",
    "            result_dict['loss_history_test'].append(loss_e/len(test_loader))\n",
    "            result_dict['avgp_history_test'].append(avgp)\n",
    "            print('{}\\t{:2f}\\t{:2f}\\t{:2f}\\t{:2f}\\t{:2.1f}\\t{:2.1f}'.\\\n",
    "                  format(e,\n",
    "                         result_dict['loss_history_train'][-1],result_dict['loss_history_test'][-1],\n",
    "                         result_dict['avgp_history_train'][-1],result_dict['avgp_history_test'][-1],\n",
    "                         time()-t, time()-t1))\n",
    "\n",
    "except KeyboardInterrupt:\n",
    "    print('Graceful Exit')\n",
    "else:\n",
    "    print(\"Finsihed\")"
   ]
  },
  {
   "cell_type": "code",
   "execution_count": 13,
   "metadata": {},
   "outputs": [
    {
     "data": {
      "text/plain": [
       "(0.3, 0.8)"
      ]
     },
     "execution_count": 13,
     "metadata": {},
     "output_type": "execute_result"
    },
    {
     "data": {
      "image/png": "[encoded data removed]",
      "text/plain": [
       "<Figure size 720x288 with 2 Axes>"
      ]
     },
     "metadata": {
      "needs_background": "light"
     },
     "output_type": "display_data"
    }
   ],
   "source": [
    "fig, ax = plt.subplots(1, 2, figsize=(10,4))\n",
    "\n",
    "ax[0].plot(result_dict['loss_history_train'])\n",
    "ax[0].plot(result_dict['loss_history_test'])\n",
    "ax[0].legend(['train', 'test'])\n",
    "ax[0].set_title('Loss', size=20)\n",
    "\n",
    "ax[1].plot(result_dict['avgp_history_train'])\n",
    "ax[1].plot(result_dict['avgp_history_test'])\n",
    "ax[1].legend(['train', 'test'])\n",
    "ax[1].set_title('Accuracy', size=20)\n",
    "ax[1].set_ylim(0.3,0.80)"
   ]
  },
  {
   "cell_type": "markdown",
   "metadata": {},
   "source": [
    "# Mir_Eval stats"
   ]
  },
  {
   "cell_type": "code",
   "execution_count": 12,
   "metadata": {},
   "outputs": [
    {
     "name": "stdout",
     "output_type": "stream",
     "text": [
      "AvgP\tP\tR\tAcc\tETot\tESub\tEmiss\tEfa\n",
      "78.02\t73.32\t76.30\t0.60\t0.40\t0.11\t0.12\t0.16\n",
      "81.75\t75.26\t79.30\t0.63\t0.38\t0.09\t0.12\t0.17\n",
      "49.84\t59.45\t45.18\t0.35\t0.73\t0.13\t0.42\t0.18\n",
      "72.93\t62.74\t79.10\t0.54\t0.61\t0.07\t0.14\t0.40\n",
      "80.88\t68.88\t87.98\t0.63\t0.42\t0.10\t0.02\t0.30\n",
      "78.51\t74.86\t71.02\t0.57\t0.40\t0.13\t0.16\t0.11\n",
      "71.44\t72.07\t68.40\t0.54\t0.44\t0.14\t0.17\t0.12\n",
      "73.46\t70.54\t70.94\t0.55\t0.48\t0.11\t0.19\t0.19\n",
      "77.41\t73.28\t69.76\t0.56\t0.47\t0.09\t0.21\t0.16\n",
      "73.00\t69.39\t75.71\t0.57\t0.46\t0.12\t0.12\t0.22\n"
     ]
    }
   ],
   "source": [
    "print('AvgP\\tP\\tR\\tAcc\\tETot\\tESub\\tEmiss\\tEfa')\n",
    "Accavg = 0\n",
    "Etotavg = 0\n",
    "model.eval()\n",
    "for songid in test_set.rec_ids:  \n",
    "    Y_pred, Y_true = musicnet.get_piano_roll(songid, test_set, model, device,\n",
    "                                             window=window, m=m, stride=-1)\n",
    "    _,_,_,Acc,Etot = musicnet.get_mir_accuracy(Y_pred, Y_true, m=m, threshold=0.4)\n",
    "    Accavg += Acc\n",
    "    Etotavg += Etot"
   ]
  },
  {
   "cell_type": "code",
   "execution_count": 14,
   "metadata": {},
   "outputs": [
    {
     "name": "stdout",
     "output_type": "stream",
     "text": [
      "Average Accuracy: \t55.24\n",
      "Average Error: \t\t47.82\n"
     ]
    }
   ],
   "source": [
    "print('Average Accuracy: \\t{:2.2f}\\nAverage Error: \\t\\t{:2.2f}'\n",
    "      .format(Accavg/len(test_set.rec_ids)*100, Etotavg/len(test_set.rec_ids)*100))"
   ]
  },
  {
   "cell_type": "markdown",
   "metadata": {},
   "source": [
    "# Saving weights and results"
   ]
  },
  {
   "cell_type": "code",
   "execution_count": 15,
   "metadata": {},
   "outputs": [],
   "source": [
    "torch.save(model.state_dict(), './weights/translation_invariant_baseline')\n",
    "with open('./result_dict/translation_invariant_baseline', 'wb') as f:\n",
    "    pickle.dump(result_dict, f)"
   ]
  },
  {
   "cell_type": "code",
   "execution_count": null,
   "metadata": {},
   "outputs": [],
   "source": [
    "from numba import cuda\n",
    "cuda.select_device(0)\n",
    "cuda.close()"
   ]
  },
  {
   "cell_type": "code",
   "execution_count": null,
   "metadata": {},
   "outputs": [],
   "source": []
  }
 ],
 "metadata": {
  "kernelspec": {
   "display_name": "Python 3",
   "language": "python",
   "name": "python3"
  },
  "language_info": {
   "codemirror_mode": {
    "name": "ipython",
    "version": 3
   },
   "file_extension": ".py",
   "mimetype": "text/x-python",
   "name": "python",
   "nbconvert_exporter": "python",
   "pygments_lexer": "ipython3",
   "version": "3.6.8"
  }
 },
 "nbformat": 4,
 "nbformat_minor": 2
}

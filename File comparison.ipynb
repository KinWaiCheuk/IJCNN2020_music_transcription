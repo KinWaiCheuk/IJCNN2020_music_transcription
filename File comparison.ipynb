{
 "cells": [
  {
   "cell_type": "code",
   "execution_count": 14,
   "metadata": {},
   "outputs": [],
   "source": [
    "import pickle\n",
    "import numpy as np\n",
    "import os\n",
    "import glob"
   ]
  },
  {
   "cell_type": "code",
   "execution_count": 36,
   "metadata": {},
   "outputs": [],
   "source": [
    "X1 = []\n",
    "X2 = []\n",
    "for i in glob.glob('../MAPS/TEST2/test_data/*'):\n",
    "    X1.append(np.fromfile(i, np.float64))\n",
    "    \n",
    "for i in glob.glob('../MAPS/Test/test_data/*'):\n",
    "    X2.append(np.fromfile(i, np.float64))"
   ]
  },
  {
   "cell_type": "code",
   "execution_count": 37,
   "metadata": {},
   "outputs": [
    {
     "data": {
      "text/plain": [
       "array([1.57772215e-30, 7.88861075e-31, 7.88861075e-31, ...,\n",
       "       1.50463308e-36, 5.87747298e-39, 5.87747175e-39])"
      ]
     },
     "execution_count": 37,
     "metadata": {},
     "output_type": "execute_result"
    }
   ],
   "source": [
    "X2[0]"
   ]
  },
  {
   "cell_type": "code",
   "execution_count": 38,
   "metadata": {},
   "outputs": [
    {
     "data": {
      "text/plain": [
       "array([1.26217772e-29, 6.31088860e-30, 1.26217772e-29, ...,\n",
       "       1.57772215e-30, 1.57772215e-30, 3.15544430e-30])"
      ]
     },
     "execution_count": 38,
     "metadata": {},
     "output_type": "execute_result"
    }
   ],
   "source": [
    "X1[0]"
   ]
  },
  {
   "cell_type": "code",
   "execution_count": 35,
   "metadata": {},
   "outputs": [
    {
     "data": {
      "text/plain": [
       "['../MAPS/TEST2/test_data/37.bin',\n",
       " '../MAPS/TEST2/test_data/20.bin',\n",
       " '../MAPS/TEST2/test_data/44.bin',\n",
       " '../MAPS/TEST2/test_data/38.bin',\n",
       " '../MAPS/TEST2/test_data/13.bin',\n",
       " '../MAPS/TEST2/test_data/58.bin',\n",
       " '../MAPS/TEST2/test_data/34.bin',\n",
       " '../MAPS/TEST2/test_data/54.bin',\n",
       " '../MAPS/TEST2/test_data/7.bin',\n",
       " '../MAPS/TEST2/test_data/6.bin',\n",
       " '../MAPS/TEST2/test_data/35.bin',\n",
       " '../MAPS/TEST2/test_data/28.bin',\n",
       " '../MAPS/TEST2/test_data/19.bin',\n",
       " '../MAPS/TEST2/test_data/22.bin',\n",
       " '../MAPS/TEST2/test_data/4.bin',\n",
       " '../MAPS/TEST2/test_data/8.bin',\n",
       " '../MAPS/TEST2/test_data/50.bin',\n",
       " '../MAPS/TEST2/test_data/21.bin',\n",
       " '../MAPS/TEST2/test_data/43.bin',\n",
       " '../MAPS/TEST2/test_data/9.bin',\n",
       " '../MAPS/TEST2/test_data/40.bin',\n",
       " '../MAPS/TEST2/test_data/25.bin',\n",
       " '../MAPS/TEST2/test_data/1.bin',\n",
       " '../MAPS/TEST2/test_data/30.bin',\n",
       " '../MAPS/TEST2/test_data/15.bin',\n",
       " '../MAPS/TEST2/test_data/49.bin',\n",
       " '../MAPS/TEST2/test_data/41.bin',\n",
       " '../MAPS/TEST2/test_data/26.bin',\n",
       " '../MAPS/TEST2/test_data/23.bin',\n",
       " '../MAPS/TEST2/test_data/52.bin',\n",
       " '../MAPS/TEST2/test_data/2.bin',\n",
       " '../MAPS/TEST2/test_data/29.bin',\n",
       " '../MAPS/TEST2/test_data/53.bin',\n",
       " '../MAPS/TEST2/test_data/10.bin',\n",
       " '../MAPS/TEST2/test_data/47.bin',\n",
       " '../MAPS/TEST2/test_data/46.bin',\n",
       " '../MAPS/TEST2/test_data/60.bin',\n",
       " '../MAPS/TEST2/test_data/18.bin',\n",
       " '../MAPS/TEST2/test_data/59.bin',\n",
       " '../MAPS/TEST2/test_data/42.bin',\n",
       " '../MAPS/TEST2/test_data/56.bin',\n",
       " '../MAPS/TEST2/test_data/45.bin',\n",
       " '../MAPS/TEST2/test_data/57.bin',\n",
       " '../MAPS/TEST2/test_data/5.bin',\n",
       " '../MAPS/TEST2/test_data/14.bin',\n",
       " '../MAPS/TEST2/test_data/24.bin',\n",
       " '../MAPS/TEST2/test_data/3.bin',\n",
       " '../MAPS/TEST2/test_data/48.bin',\n",
       " '../MAPS/TEST2/test_data/51.bin',\n",
       " '../MAPS/TEST2/test_data/55.bin',\n",
       " '../MAPS/TEST2/test_data/11.bin',\n",
       " '../MAPS/TEST2/test_data/12.bin',\n",
       " '../MAPS/TEST2/test_data/39.bin',\n",
       " '../MAPS/TEST2/test_data/17.bin',\n",
       " '../MAPS/TEST2/test_data/33.bin',\n",
       " '../MAPS/TEST2/test_data/32.bin',\n",
       " '../MAPS/TEST2/test_data/27.bin',\n",
       " '../MAPS/TEST2/test_data/31.bin',\n",
       " '../MAPS/TEST2/test_data/16.bin',\n",
       " '../MAPS/TEST2/test_data/36.bin']"
      ]
     },
     "execution_count": 35,
     "metadata": {},
     "output_type": "execute_result"
    }
   ],
   "source": [
    "glob.glob('../MAPS/TEST2/test_data/*')"
   ]
  },
  {
   "cell_type": "code",
   "execution_count": null,
   "metadata": {},
   "outputs": [],
   "source": []
  }
 ],
 "metadata": {
  "kernelspec": {
   "display_name": "Python 3",
   "language": "python",
   "name": "python3"
  },
  "language_info": {
   "codemirror_mode": {
    "name": "ipython",
    "version": 3
   },
   "file_extension": ".py",
   "mimetype": "text/x-python",
   "name": "python",
   "nbconvert_exporter": "python",
   "pygments_lexer": "ipython3",
   "version": "3.6.8"
  }
 },
 "nbformat": 4,
 "nbformat_minor": 2
}
